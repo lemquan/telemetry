{
 "cells": [
  {
   "cell_type": "code",
   "execution_count": 1,
   "metadata": {
    "collapsed": false
   },
   "outputs": [],
   "source": [
    "%matplotlib inline"
   ]
  },
  {
   "cell_type": "code",
   "execution_count": 2,
   "metadata": {
    "collapsed": false
   },
   "outputs": [],
   "source": [
    "import pandas as pd\n",
    "import numpy as np \n",
    "import matplotlib.pyplot as plt\n",
    "import seaborn as sns\n",
    "import socket\n",
    "import struct\n",
    "from datetime import datetime\n",
    "from scipy.special import factorial"
   ]
  },
  {
   "cell_type": "code",
   "execution_count": 3,
   "metadata": {
    "collapsed": false
   },
   "outputs": [],
   "source": [
    "pos_df = pd.read_csv('data/results_pos.csv')\n",
    "pos_df['health'] = 1\n",
    "neg_df = pd.read_csv('data/results_neg.csv')\n",
    "neg_df['health'] = 0\n",
    "df = pd.concat([pos_df, neg_df])\n",
    "ip = pd.read_csv('data/interface_ip.csv')\n",
    "ip = ip.drop('Unnamed: 0',1)"
   ]
  },
  {
   "cell_type": "code",
   "execution_count": 4,
   "metadata": {
    "collapsed": true
   },
   "outputs": [],
   "source": [
    "def convert_time(ts):\n",
    "    \n",
    "    # convert into a datetime obj with microsecs\n",
    "    dt = datetime.strptime(ts, '%Y-%m-%dT%H:%M:%S.%fZ')\n",
    "    \n",
    "    # change to epoch time\n",
    "    ep = ((dt-datetime(1970,1,1)).total_seconds())\n",
    "    \n",
    "    # to check if time is coverted correctly \n",
    "    #ts = datetime.utcfromtimestamp(ep)\n",
    "    #datetime.strftime(ts, '%Y-%m-%dT%H:%M:%S.%fZ')\n",
    "    return ep \n",
    "\n",
    "def log_entropy(x):\n",
    "    f = lambda x,y: x*y\n",
    "    num = np.log(factorial(sum(x)))\n",
    "    denom = np.log(reduce(f, factorial(x)))\n",
    "    return num - denom"
   ]
  },
  {
   "cell_type": "code",
   "execution_count": 5,
   "metadata": {
    "collapsed": false
   },
   "outputs": [],
   "source": [
    "x = list(df)\n",
    "f = []\n",
    "for i in range(len(x)):\n",
    "    if 'generic_counters' in x[i]: \n",
    "        f.append(x[i][25:])\n",
    "    elif 'delta' in x[i]:\n",
    "        f.append(x[i][8:])\n",
    "    elif '@' in x[i]: # @timehost\n",
    "        f.append(x[i][1:])\n",
    "    elif 'InterfaceName' in x[i]: #change interface\n",
    "        f.append(x[i][12:21].lower())\n",
    "    else:\n",
    "        f.append(x[i])\n",
    "\n",
    "df = df.rename(columns=dict(zip(x,f)))"
   ]
  },
  {
   "cell_type": "code",
   "execution_count": 6,
   "metadata": {
    "collapsed": false
   },
   "outputs": [],
   "source": [
    "df = pd.merge(df,ip,how='inner', on=['hostname', 'interface'])"
   ]
  },
  {
   "cell_type": "code",
   "execution_count": 7,
   "metadata": {
    "collapsed": false
   },
   "outputs": [],
   "source": [
    "df['epoch_time'] = df['timestamp'].apply(convert_time)"
   ]
  },
  {
   "cell_type": "code",
   "execution_count": 8,
   "metadata": {
    "collapsed": false
   },
   "outputs": [],
   "source": [
    "df = df.sort_values('epoch_time')\n",
    "df = df.drop('timestamp',1)\n",
    "#df = df.set_index('epoch_time')"
   ]
  },
  {
   "cell_type": "code",
   "execution_count": 9,
   "metadata": {
    "collapsed": false
   },
   "outputs": [],
   "source": [
    "cols = list(df)\n",
    "cols = cols[-1:] + cols[:-1]\n",
    "df = df[cols]"
   ]
  },
  {
   "cell_type": "code",
   "execution_count": 10,
   "metadata": {
    "collapsed": false
   },
   "outputs": [],
   "source": [
    "df = df.drop('interface',1)"
   ]
  },
  {
   "cell_type": "code",
   "execution_count": 11,
   "metadata": {
    "collapsed": false
   },
   "outputs": [],
   "source": [
    "# create dummy variables for each hostname\n",
    "dummy_host = pd.get_dummies(df['hostname'])"
   ]
  },
  {
   "cell_type": "code",
   "execution_count": 12,
   "metadata": {
    "collapsed": false
   },
   "outputs": [],
   "source": [
    "df = dummy_host.join(df)"
   ]
  },
  {
   "cell_type": "code",
   "execution_count": 13,
   "metadata": {
    "collapsed": false
   },
   "outputs": [],
   "source": [
    "#df = df.drop('hostname',1)"
   ]
  },
  {
   "cell_type": "code",
   "execution_count": 14,
   "metadata": {
    "collapsed": false
   },
   "outputs": [],
   "source": [
    "#dummy_ip = pd.get_dummies(df['ip'])\n",
    "#df = df.join(dummy_ip)"
   ]
  },
  {
   "cell_type": "code",
   "execution_count": 15,
   "metadata": {
    "collapsed": false
   },
   "outputs": [],
   "source": [
    "df['log_bytesSent'] = np.log(df.BytesSent)\n",
    "df['log_bytesReceived'] = np.log(df.BytesReceived)\n",
    "df['log_packetsSent'] = np.log(df.PacketsSent)\n",
    "df['log_packetsReceived'] = np.log(df.PacketsSent)\n",
    "\n",
    "# replace all inf with NaN as there are 0s \n",
    "df = df.replace([np.inf, -np.inf], np.nan).dropna()"
   ]
  },
  {
   "cell_type": "code",
   "execution_count": 16,
   "metadata": {
    "collapsed": false
   },
   "outputs": [
    {
     "name": "stdout",
     "output_type": "stream",
     "text": [
      "count    43200.000000\n",
      "mean        17.118118\n",
      "std          6.072831\n",
      "min          5.204007\n",
      "25%         14.438651\n",
      "50%         16.934893\n",
      "75%         18.955281\n",
      "max         30.273499\n",
      "Name: log_bytesSent, dtype: float64\n"
     ]
    },
    {
     "data": {
      "text/plain": [
       "<matplotlib.text.Text at 0x10d5d0550>"
      ]
     },
     "execution_count": 16,
     "metadata": {},
     "output_type": "execute_result"
    },
    {
     "data": {
      "image/png": "[encoded data removed]",
      "text/plain": [
       "<matplotlib.figure.Figure at 0x1122356d0>"
      ]
     },
     "metadata": {},
     "output_type": "display_data"
    }
   ],
   "source": [
    "print df.log_bytesSent.describe()\n",
    "plt.hist((df.log_bytesSent))\n",
    "plt.title('BytesSent histogram')"
   ]
  },
  {
   "cell_type": "code",
   "execution_count": 17,
   "metadata": {
    "collapsed": false
   },
   "outputs": [
    {
     "name": "stdout",
     "output_type": "stream",
     "text": [
      "count    43200.000000\n",
      "mean        18.442593\n",
      "std          4.781947\n",
      "min         12.775132\n",
      "25%         15.106546\n",
      "50%         17.025860\n",
      "75%         19.024522\n",
      "max         30.273926\n",
      "Name: log_bytesReceived, dtype: float64\n"
     ]
    },
    {
     "data": {
      "text/plain": [
       "<matplotlib.text.Text at 0x1121c9750>"
      ]
     },
     "execution_count": 17,
     "metadata": {},
     "output_type": "execute_result"
    },
    {
     "data": {
      "image/png": "[encoded data removed]",
      "text/plain": [
       "<matplotlib.figure.Figure at 0x10f3f6e50>"
      ]
     },
     "metadata": {},
     "output_type": "display_data"
    }
   ],
   "source": [
    "print df.log_bytesReceived.describe()\n",
    "plt.hist((df.log_bytesReceived))\n",
    "plt.title('BytesReceived histogram')"
   ]
  },
  {
   "cell_type": "code",
   "execution_count": 18,
   "metadata": {
    "collapsed": false
   },
   "outputs": [
    {
     "data": {
      "text/plain": [
       "<matplotlib.text.Text at 0x1125d8690>"
      ]
     },
     "execution_count": 18,
     "metadata": {},
     "output_type": "execute_result"
    },
    {
     "data": {
      "image/png": "[encoded data removed]",
      "text/plain": [
       "<matplotlib.figure.Figure at 0x11250e9d0>"
      ]
     },
     "metadata": {},
     "output_type": "display_data"
    }
   ],
   "source": [
    "fig, ax = plt.subplots(1,2, figsize=(15,9))\n",
    "ax[0].scatter(df.epoch_time,(df.log_bytesSent),alpha=0.1, color='r', s=15, label='bytes sent')\n",
    "ax[0].scatter(df.epoch_time,(df.log_bytesReceived),alpha=0.1 ,color='g', s=15, label='bytes received')\n",
    "ax[1].scatter(df.epoch_time,df.log_packetsSent,alpha=0.7, color='r', s=15, label='packets sent')\n",
    "ax[1].scatter(df.epoch_time,df.log_packetsReceived,alpha=0.1 ,color='g', s=15, label='packets received')\n",
    "ax[0].legend()\n",
    "ax[1].legend()\n",
    "ax[0].set_title('Time vs Bytes Sent/Received')\n",
    "ax[1].set_title('Time vs Packets Sent/Received')"
   ]
  },
  {
   "cell_type": "markdown",
   "metadata": {},
   "source": [
    "We show two plots of time vs. bytes sent/received and time vs. packets sent/received. The first graph does not indicate of any patterns except that bytes received is higher than sent. There is also a missing time period between 20000 - 35000. Why is that?\n",
    "\n",
    "For packets, we observe that its fairly equal. Perhaps an importance feature is a delta between the two. Let us create that the feature."
   ]
  },
  {
   "cell_type": "code",
   "execution_count": 19,
   "metadata": {
    "collapsed": false
   },
   "outputs": [
    {
     "name": "stdout",
     "output_type": "stream",
     "text": [
      "1458231000.0 1458243000.0\n"
     ]
    },
    {
     "data": {
      "image/png": "[encoded data removed]",
      "text/plain": [
       "<matplotlib.figure.Figure at 0x1120191d0>"
      ]
     },
     "metadata": {},
     "output_type": "display_data"
    }
   ],
   "source": [
    "#df[(df['epoch_time'] > 21000+1.45821e+09) & (df['epoch_time'] < 33000+1.45821e+09)]\n",
    "plt.scatter(range(len(df.epoch_time)), df.epoch_time)\n",
    "print 21000+1.45821e+09, 33000+1.45821e+09"
   ]
  },
  {
   "cell_type": "code",
   "execution_count": 20,
   "metadata": {
    "collapsed": false
   },
   "outputs": [],
   "source": [
    "# use the raw as the log version will give 0s\n",
    "df['delta_packets'] = df.PacketsReceived - df.PacketsSent"
   ]
  },
  {
   "cell_type": "code",
   "execution_count": 21,
   "metadata": {
    "collapsed": false
   },
   "outputs": [
    {
     "data": {
      "text/plain": [
       "(array([  4320.,      0.,    202.,   7082.,  13630.,  10046.,   2880.,\n",
       "           105.,    255.,   4680.]),\n",
       " array([  1.09861229,   3.28398238,   5.46935247,   7.65472257,\n",
       "          9.84009266,  12.02546275,  14.21083284,  16.39620293,\n",
       "         18.58157303,  20.76694312,  22.95231321]),\n",
       " <a list of 10 Patch objects>)"
      ]
     },
     "execution_count": 21,
     "metadata": {},
     "output_type": "execute_result"
    },
    {
     "data": {
      "image/png": "[encoded data removed]",
      "text/plain": [
       "<matplotlib.figure.Figure at 0x112558b90>"
      ]
     },
     "metadata": {},
     "output_type": "display_data"
    }
   ],
   "source": [
    "plt.hist(df.log_packetsReceived)"
   ]
  },
  {
   "cell_type": "code",
   "execution_count": 22,
   "metadata": {
    "collapsed": false
   },
   "outputs": [],
   "source": [
    "# convert IP address from string to its 32bit representation \n",
    "# note on apply: we apply on a series df['ip'] cus the function applies on single values\n",
    "df['ip_int'] = df['ip'].apply(lambda x: struct.unpack(\"!L\", socket.inet_aton(x))[0])"
   ]
  },
  {
   "cell_type": "code",
   "execution_count": 23,
   "metadata": {
    "collapsed": false
   },
   "outputs": [],
   "source": [
    "# normalise...use apply on a dataframe\n",
    "df[['MulticastPacketsSent_norm', 'MulticastPacketsReceived_norm']] = df[['MulticastPacketsSent', 'MulticastPacketsReceived']].apply(lambda x: x - x.mean() / x.std())"
   ]
  },
  {
   "cell_type": "code",
   "execution_count": 24,
   "metadata": {
    "collapsed": false
   },
   "outputs": [],
   "source": [
    "r = df[['PacketsReceived', 'PacketsSent', 'BytesReceived', 'BytesSent']].apply(lambda x: np.log(x - x.mean() / x.std()))\n",
    "c = ['log_packetsReceived_norm', 'log_packetsSent_norm', 'log_BytesReceived_norm', 'log_BytesSent_norm']\n",
    "rn = dict(zip(list(r), c))\n",
    "r = r.rename(columns=rn)\n",
    "df = df.join(r)"
   ]
  },
  {
   "cell_type": "code",
   "execution_count": 25,
   "metadata": {
    "collapsed": false
   },
   "outputs": [],
   "source": [
    "# feature engineer some time stuff\n",
    "# df['delta_DataTime_DiscontinuityTime']= df.LastDataTime - df.LastDiscontinuityTime\n",
    "# df['delta_epoch_lastDataTime'] = df.LastDataTime - df.epoch_time"
   ]
  },
  {
   "cell_type": "code",
   "execution_count": 26,
   "metadata": {
    "collapsed": false
   },
   "outputs": [],
   "source": [
    "# create a ratio of packets/ broadcast packets\n",
    "df['ratio_broadcast_packetsent'] = np.log(df.BroadcastPacketsSent) / df.log_packetsSent_norm\n",
    "df['ratio_broadcast_packetrec'] = np.log(df.BroadcastPacketsReceived) / df.log_BytesReceived_norm\n",
    "df[df == -np.Inf] = np.NaN\n",
    "df = df.fillna(0)"
   ]
  },
  {
   "cell_type": "code",
   "execution_count": 27,
   "metadata": {
    "collapsed": false
   },
   "outputs": [],
   "source": [
    "# df = df.drop('LastDiscontinuityTime',1)\n",
    "# df = df.drop('ip',1)\n",
    "# df = df.drop('hostname', 1)\n",
    "df.to_csv('data/final.csv')"
   ]
  },
  {
   "cell_type": "code",
   "execution_count": 28,
   "metadata": {
    "collapsed": true
   },
   "outputs": [],
   "source": [
    "# f = pd.DataFrame({'A' : ['foo', 'bar', 'foo', 'bar',\n",
    "#                           'foo', 'bar', 'foo', 'foo'],\n",
    "#                    'B' : ['one', 'one', 'two', 'three',\n",
    "#                          'two', 'two', 'one', 'three'],\n",
    "#                    'C' : [2,3,4,5,6,9,1,2] , 'D' : [1,2,3,4,5,6,7,9]})\n",
    "\n",
    "# #f = pd.DataFrame({'C' : [2,3,4,5,6,9,1,2] , 'D' : [1,2,3,4,5,6,7,9]})\n",
    "# z = lambda x: (x - x.mean()) / x.std()\n",
    "# #f.groupby('A').transform(lambda x: x)\n",
    "# f['c2'] = f['C'].apply(lambda x: x*1.0)\n",
    "# f['d2'] = f['D'].apply(lambda x: x*1.0)\n",
    "# f[['C']].apply(z)"
   ]
  },
  {
   "cell_type": "code",
   "execution_count": 29,
   "metadata": {
    "collapsed": false
   },
   "outputs": [],
   "source": [
    "# df = df.drop(['ThrottledPacketsReceived', 'CRCErrors', 'SecondsSinceLastClearCounters', \\\n",
    "#                       'OutputQueueDrops', 'OutputUnderruns', 'InputErrors', 'AvailabilityFlag', \\\n",
    "#                       'InputDrops', 'OutputDrops', 'OutputBuffersSwappedOut', 'Resets', 'InputAborts', \\\n",
    "#                       'GiantPacketsReceived', 'FramingErrorsReceived', 'OutputBufferFailures', \\\n",
    "#                       'CarrierTransitions', 'RuntPacketsReceived', 'InputQueueDrops', 'InputOverruns', \\\n",
    "#                       'OutputErrors', 'Applique', 'InputIgnoredPackets', 'MulticastPacketsSent', \\\n",
    "#                       'MulticastPacketsReceived', 'ParityPacketsReceived', 'UnknownProtocolPacketsReceived', \\\n",
    "#                       'PacketsReceived', 'PacketsSent', 'BytesReceived', 'BytesSent', \\\n",
    "#                       'delta.PacketsReceived', 'delta.PacketsSent', 'delta.BytesSent', \\\n",
    "#                       'delta.BytesReceived'], 1)"
   ]
  },
  {
   "cell_type": "code",
   "execution_count": 30,
   "metadata": {
    "collapsed": false
   },
   "outputs": [
    {
     "data": {
      "text/plain": [
       "Index([u's0-r1', u's0-r2', u's0-r3', u's0-r4', u's0-r6', u'epoch_time',\n",
       "       u'MulticastPacketsSent', u'LastDiscontinuityTime',\n",
       "       u'MulticastPacketsReceived', u'ThrottledPacketsReceived', u'CRCErrors',\n",
       "       u'PacketsReceived', u'LastDataTime', u'hostname', u'BytesReceived',\n",
       "       u'delta.BytesSent', u'BytesSent', u'OutputUnderruns',\n",
       "       u'SecondsSinceLastClearCounters', u'OutputQueueDrops',\n",
       "       u'SecondsSincePacketReceived', u'InputErrors', u'AvailabilityFlag',\n",
       "       u'BroadcastPacketsSent', u'delta.BytesReceived', u'InputDrops',\n",
       "       u'OutputDrops', u'OutputBuffersSwappedOut', u'Resets', u'InputAborts',\n",
       "       u'GiantPacketsReceived', u'BroadcastPacketsReceived',\n",
       "       u'delta.PacketsReceived', u'UnknownProtocolPacketsReceived',\n",
       "       u'FramingErrorsReceived', u'OutputBufferFailures',\n",
       "       u'CarrierTransitions', u'RuntPacketsReceived', u'delta.PacketsSent',\n",
       "       u'InputQueueDrops', u'InputOverruns', u'PacketsSent',\n",
       "       u'SecondsSincePacketSent', u'OutputErrors', u'InputIgnoredPackets',\n",
       "       u'Applique', u'ParityPacketsReceived', u'health', u'ip',\n",
       "       u'log_bytesSent', u'log_bytesReceived', u'log_packetsSent',\n",
       "       u'log_packetsReceived', u'delta_packets', u'ip_int',\n",
       "       u'MulticastPacketsSent_norm', u'MulticastPacketsReceived_norm',\n",
       "       u'log_packetsReceived_norm', u'log_packetsSent_norm',\n",
       "       u'log_BytesReceived_norm', u'log_BytesSent_norm',\n",
       "       u'ratio_broadcast_packetsent', u'ratio_broadcast_packetrec'],\n",
       "      dtype='object')"
      ]
     },
     "execution_count": 30,
     "metadata": {},
     "output_type": "execute_result"
    }
   ],
   "source": [
    "df.columns"
   ]
  },
  {
   "cell_type": "code",
   "execution_count": 32,
   "metadata": {
    "collapsed": false
   },
   "outputs": [
    {
     "data": {
      "text/plain": [
       "5571"
      ]
     },
     "execution_count": 32,
     "metadata": {},
     "output_type": "execute_result"
    }
   ],
   "source": [
    "len(df.epoch_time.unique())"
   ]
  },
  {
   "cell_type": "code",
   "execution_count": 33,
   "metadata": {
    "collapsed": false
   },
   "outputs": [
    {
     "name": "stdout",
     "output_type": "stream",
     "text": [
      "<class 'pandas.core.frame.DataFrame'>\n",
      "Int64Index: 43200 entries, 7920 to 12238\n",
      "Data columns (total 63 columns):\n",
      "s0-r1                             43200 non-null float64\n",
      "s0-r2                             43200 non-null float64\n",
      "s0-r3                             43200 non-null float64\n",
      "s0-r4                             43200 non-null float64\n",
      "s0-r6                             43200 non-null float64\n",
      "epoch_time                        43200 non-null float64\n",
      "MulticastPacketsSent              43200 non-null int64\n",
      "LastDiscontinuityTime             43200 non-null int64\n",
      "MulticastPacketsReceived          43200 non-null int64\n",
      "ThrottledPacketsReceived          43200 non-null int64\n",
      "CRCErrors                         43200 non-null int64\n",
      "PacketsReceived                   43200 non-null int64\n",
      "LastDataTime                      43200 non-null int64\n",
      "hostname                          43200 non-null object\n",
      "BytesReceived                     43200 non-null int64\n",
      "delta.BytesSent                   43200 non-null float64\n",
      "BytesSent                         43200 non-null int64\n",
      "OutputUnderruns                   43200 non-null int64\n",
      "SecondsSinceLastClearCounters     43200 non-null int64\n",
      "OutputQueueDrops                  43200 non-null int64\n",
      "SecondsSincePacketReceived        43200 non-null int64\n",
      "InputErrors                       43200 non-null int64\n",
      "AvailabilityFlag                  43200 non-null int64\n",
      "BroadcastPacketsSent              43200 non-null int64\n",
      "delta.BytesReceived               43200 non-null float64\n",
      "InputDrops                        43200 non-null int64\n",
      "OutputDrops                       43200 non-null int64\n",
      "OutputBuffersSwappedOut           43200 non-null int64\n",
      "Resets                            43200 non-null int64\n",
      "InputAborts                       43200 non-null int64\n",
      "GiantPacketsReceived              43200 non-null int64\n",
      "BroadcastPacketsReceived          43200 non-null int64\n",
      "delta.PacketsReceived             43200 non-null float64\n",
      "UnknownProtocolPacketsReceived    43200 non-null int64\n",
      "FramingErrorsReceived             43200 non-null int64\n",
      "OutputBufferFailures              43200 non-null int64\n",
      "CarrierTransitions                43200 non-null int64\n",
      "RuntPacketsReceived               43200 non-null int64\n",
      "delta.PacketsSent                 43200 non-null float64\n",
      "InputQueueDrops                   43200 non-null int64\n",
      "InputOverruns                     43200 non-null int64\n",
      "PacketsSent                       43200 non-null int64\n",
      "SecondsSincePacketSent            43200 non-null int64\n",
      "OutputErrors                      43200 non-null int64\n",
      "InputIgnoredPackets               43200 non-null int64\n",
      "Applique                          43200 non-null int64\n",
      "ParityPacketsReceived             43200 non-null int64\n",
      "health                            43200 non-null int64\n",
      "ip                                43200 non-null object\n",
      "log_bytesSent                     43200 non-null float64\n",
      "log_bytesReceived                 43200 non-null float64\n",
      "log_packetsSent                   43200 non-null float64\n",
      "log_packetsReceived               43200 non-null float64\n",
      "delta_packets                     43200 non-null int64\n",
      "ip_int                            43200 non-null int64\n",
      "MulticastPacketsSent_norm         43200 non-null float64\n",
      "MulticastPacketsReceived_norm     43200 non-null float64\n",
      "log_packetsReceived_norm          43200 non-null float64\n",
      "log_packetsSent_norm              43200 non-null float64\n",
      "log_BytesReceived_norm            43200 non-null float64\n",
      "log_BytesSent_norm                43200 non-null float64\n",
      "ratio_broadcast_packetsent        43200 non-null float64\n",
      "ratio_broadcast_packetrec         43200 non-null float64\n",
      "dtypes: float64(22), int64(39), object(2)\n",
      "memory usage: 21.1+ MB\n"
     ]
    }
   ],
   "source": [
    "plt.plot(df.epoch_time, df."
   ]
  },
  {
   "cell_type": "code",
   "execution_count": null,
   "metadata": {
    "collapsed": true
   },
   "outputs": [],
   "source": [
    "import pickle \n",
    "f = open('data.pkl', 'rb')\n",
    "X = pickle.load(f)\n",
    "u,s,v = np.linalg.svd(X)"
   ]
  },
  {
   "cell_type": "code",
   "execution_count": null,
   "metadata": {
    "collapsed": true
   },
   "outputs": [],
   "source": []
  }
 ],
 "metadata": {
  "kernelspec": {
   "display_name": "Python 2",
   "language": "python",
   "name": "python2"
  },
  "language_info": {
   "codemirror_mode": {
    "name": "ipython",
    "version": 2
   },
   "file_extension": ".py",
   "mimetype": "text/x-python",
   "name": "python",
   "nbconvert_exporter": "python",
   "pygments_lexer": "ipython2",
   "version": "2.7.10"
  }
 },
 "nbformat": 4,
 "nbformat_minor": 0
}
